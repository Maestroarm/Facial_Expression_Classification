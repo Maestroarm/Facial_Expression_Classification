{
  "nbformat": 4,
  "nbformat_minor": 0,
  "metadata": {
    "colab": {
      "provenance": []
    },
    "kernelspec": {
      "name": "python3",
      "display_name": "Python 3"
    },
    "language_info": {
      "name": "python"
    },
    "accelerator": "GPU",
    "gpuClass": "standard"
  },
  "cells": [
    {
      "cell_type": "code",
      "execution_count": null,
      "metadata": {
        "id": "xorDgOAWBtTv"
      },
      "outputs": [],
      "source": [
        "import numpy as np\n",
        "import pandas as pd\n",
        "import os\n",
        "from tqdm import tqdm_notebook as tqdm\n",
        "from sklearn.preprocessing import LabelEncoder\n",
        "from sklearn.model_selection import train_test_split\n",
        "from sklearn.metrics import f1_score, precision_score, recall_score, RocCurveDisplay, PrecisionRecallDisplay\n",
        "from sklearn.metrics import roc_auc_score\n",
        "from sklearn.metrics import confusion_matrix\n",
        "from PIL import Image\n",
        "import matplotlib.pyplot as plt\n",
        "from matplotlib.ticker import AutoMinorLocator, MultipleLocator\n",
        "import seaborn as sns\n",
        "import torch\n",
        "import torch.nn as nn\n",
        "from torchsummary import summary\n",
        "import torch.nn.functional as F\n",
        "import torch.optim as optim\n",
        "from torch.utils.data.sampler import SubsetRandomSampler\n",
        "from torch.utils.data import DataLoader\n",
        "from torch.utils.data import Dataset, TensorDataset\n",
        "import torchvision\n",
        "import torchvision.transforms as transforms\n",
        "from torchvision.transforms import ToTensor\n",
        "from torchvision import datasets, transforms, models\n",
        "import sys\n",
        "import pickle\n",
        "import dill as dill \n",
        "import warnings \n",
        "import itertools \n",
        "from tqdm import tqdm \n",
        "from collections import Counter \n",
        "from collections import OrderedDict\n",
        "import time \n",
        "from pytz import timezone \n",
        "from datetime import datetime\n",
        "import string\n",
        "from pathlib import Path"
      ]
    },
    {
      "cell_type": "code",
      "source": [
        "device = torch.device(\"cuda:0\" if torch.cuda.is_available() else \"cpu\")\n",
        "print(device)"
      ],
      "metadata": {
        "colab": {
          "base_uri": "https://localhost:8080/"
        },
        "id": "bHRy21hPBx8g",
        "outputId": "f6c6e3ec-11be-415c-cece-4f1396aaaded"
      },
      "execution_count": null,
      "outputs": [
        {
          "output_type": "stream",
          "name": "stdout",
          "text": [
            "cuda:0\n"
          ]
        }
      ]
    },
    {
      "cell_type": "code",
      "source": [
        "# Utility functions\n",
        "if \"OrigFigSize\" not in locals() and \"OrigFigSize\" not in globals():\n",
        "    OrigFigSize   = plt.rcParams[\"figure.figsize\"]\n",
        "\n",
        "NonNans = lambda List: List[np.logical_not(np.isnan(List))]\n",
        "LastNonNan = lambda List: NonNans(List)[-1] if np.sum(np.isnan(List)) < len(List) else np.array([]) if type(List) == np.ndarray else []\n",
        "\n",
        "def ZeroANumber(Number, MaxLength, ForceMaxLength = False):\n",
        "    res = str(Number).zfill(MaxLength)\n",
        "    if ForceMaxLength: res = res[:MaxLength]\n",
        "    return res\n",
        "\n",
        "def SpaceAString(CurString, MaxLength, SpaceTheFront = True, ForceMaxLength = False, ForceRemoveFromFront = False):\n",
        "    CurLen = len(CurString)\n",
        "    Result = CurString\n",
        "    \n",
        "    if CurLen < MaxLength:\n",
        "        if SpaceTheFront:\n",
        "            Result = (\" \" * (MaxLength-CurLen)) + CurString\n",
        "        else:\n",
        "            Result = CurString + (\" \" * (MaxLength-CurLen))\n",
        "    elif CurLen > MaxLength and ForceMaxLength:\n",
        "        if ForceRemoveFromFront:\n",
        "            Result = CurString[(CurLen - MaxLength):]\n",
        "        else:\n",
        "            Result = CurString[:-(CurLen - MaxLength)]\n",
        "    return Result\n",
        "\n",
        "def WriteText(TextParsableVar, FullFilePath):\n",
        "    try:\n",
        "        DirName = Path(FullFilePath).parent.absolute()\n",
        "        os.makedirs(DirName, exist_ok = True)\n",
        "        \n",
        "        FileOptions = open(FullFilePath, \"w\")\n",
        "        FileOptions.writelines(\n",
        "            f\"{TextParsableVar}\"\n",
        "        )\n",
        "    except Exception as e:\n",
        "        print(f\"Exception:\\n{e}\")\n",
        "    finally:\n",
        "        try:\n",
        "            FileOptions.close()\n",
        "        except Exception:\n",
        "            pass\n",
        "SaveText = lambda TextParsableVar, FullFilePath: WriteText(TextParsableVar, FullFilePath)\n",
        "\n",
        "def ReadText(FullFilePath):\n",
        "    with open(FullFilePath, \"r+\", encoding = \"utf8\") as io:\n",
        "        TextString = io.read()\n",
        "    return TextString\n",
        "LoadText = lambda FullFilePath: ReadText(FullFilePath)\n",
        "\n",
        "def SaveVariable(Variable, FileName):\n",
        "    DirName = Path(FileName).parent.absolute()\n",
        "    os.makedirs(DirName, exist_ok = True)\n",
        "    with open(FileName, 'wb') as io:\n",
        "        pickle.dump(Variable, io)\n",
        "\n",
        "def SaveVariableDill(Variable, FileName):\n",
        "    DirName = Path(FileName).parent.absolute()\n",
        "    os.makedirs(DirName, exist_ok = True)\n",
        "    with open(FileName, 'wb') as io:\n",
        "        dill.dump(Variable, io)\n",
        "    \n",
        "def LoadVariable(FileName):\n",
        "    with open(FileName, \"rb\") as io:\n",
        "        Res = pickle.load(io)\n",
        "    return Res\n",
        "\n",
        "def LoadVariableDill(FileName):\n",
        "    with open(FileName, 'rb') as io:\n",
        "        Res = dill.load(io)\n",
        "    return Res\n",
        "\n",
        "def RemLastLine(s):\n",
        "    return s[:s.rfind('\\n')]"
      ],
      "metadata": {
        "id": "hQikntDcNCpv"
      },
      "execution_count": null,
      "outputs": []
    },
    {
      "cell_type": "code",
      "source": [
        "#CNN Conv 2D\n",
        "class Net(nn.Module):\n",
        "    def __init__(self, K_Length, activation, layer_type, num_units, usebias, dropout, conv_input_size, conv_output_size, conv_filter_size, conv_stride, conv_padding, batchnorm_momentum, conv_pool_size, conv_pool_stride, conv_pool_padding, conv_pool_dilation):\n",
        "        super(Net, self).__init__()\n",
        "        self.K_Length = K_Length\n",
        "        self.layer_type = layer_type\n",
        "        self.num_units = num_units\n",
        "        self.activation = activation\n",
        "        self.usebias = usebias\n",
        "        self.dropout = dropout\n",
        "        self.conv_input_size = conv_input_size\n",
        "        self.conv_output_size = conv_output_size\n",
        "        self.conv_filter_size = conv_filter_size\n",
        "        self.conv_stride = conv_stride\n",
        "        self.conv_padding = conv_padding\n",
        "        self.batchnorm_momentum = batchnorm_momentum\n",
        "        self.conv_pool_size = conv_pool_size\n",
        "        self.conv_pool_stride = conv_pool_stride\n",
        "        self.conv_pool_padding = conv_pool_padding\n",
        "        self.conv_pool_dilation = conv_pool_dilation\n",
        "        \n",
        "        self.layers = nn.ModuleList([\n",
        "            nn.Conv2d(self.conv_input_size[-1], self.num_units[1], kernel_size = self.conv_filter_size, stride = self.conv_stride if self.layer_type[0] == \"stridedconv\" else 1, padding = self.conv_padding[0], bias = self.usebias[0]),\n",
        "            nn.BatchNorm2d(self.num_units[1], eps = 1e-05, momentum = self.batchnorm_momentum[0], affine = True, track_running_stats = True),\n",
        "            self.GetActivationLayer(0),\n",
        "            nn.Dropout(p = self.dropout[0], inplace = False),\n",
        "            \n",
        "            nn.Conv2d(self.num_units[1], self.num_units[2], kernel_size = self.conv_filter_size, stride = self.conv_stride if self.layer_type[1] == \"stridedconv\" else 1, padding = self.conv_padding[1], bias = self.usebias[1]),\n",
        "            nn.BatchNorm2d(self.num_units[2], eps = 1e-05, momentum = self.batchnorm_momentum[1], affine = True, track_running_stats = True),\n",
        "            self.GetActivationLayer(1),\n",
        "            nn.Dropout(p = self.dropout[1], inplace = False),\n",
        "            \n",
        "            nn.Conv2d(self.num_units[2], self.num_units[3], kernel_size = self.conv_filter_size, stride = 1, padding = self.conv_padding[2], bias = self.usebias[2]),\n",
        "            nn.MaxPool2d(kernel_size = self.conv_pool_size, stride = self.conv_pool_stride, padding = self.conv_pool_padding, dilation = self.conv_pool_dilation, ceil_mode = False),\n",
        "            nn.BatchNorm2d(self.num_units[3], eps = 1e-05, momentum = self.batchnorm_momentum[2], affine = True, track_running_stats = True),\n",
        "            self.GetActivationLayer(2),\n",
        "            nn.Dropout(p = self.dropout[2], inplace = False),\n",
        "            \n",
        "            nn.Linear(in_features = self.conv_output_size[3], out_features = self.num_units[4], bias = self.usebias[3]),\n",
        "            self.GetActivationLayer(3),\n",
        "            nn.Dropout(p = self.dropout[3], inplace = False),\n",
        "\n",
        "            nn.Linear(in_features = self.conv_output_size[4], out_features = self.num_units[5], bias = self.usebias[4]),\n",
        "            self.GetActivationLayer(4),\n",
        "            nn.Dropout(p = self.dropout[4], inplace = False),\n",
        "\n",
        "            nn.Linear(in_features = self.num_units[5], out_features = K_Length, bias = self.usebias[5])\n",
        "        ])\n",
        "    \n",
        "    def forward(self, x):\n",
        "        out = self.layers[0](x)\n",
        "        out = self.layers[1](out)\n",
        "        out = self.layers[2](out)\n",
        "        out = self.layers[3](out)\n",
        "        out = self.layers[4](out)\n",
        "        out = self.layers[5](out)\n",
        "        out = self.layers[6](out)\n",
        "        out = self.layers[7](out)\n",
        "        out = self.layers[8](out)\n",
        "        out = self.layers[9](out)\n",
        "        out = self.layers[10](out)\n",
        "        out = self.layers[11](out)\n",
        "        out = self.layers[12](out)\n",
        "        out = out.reshape(out.shape[0], -1)\n",
        "        out = self.layers[13](out)\n",
        "        out = self.layers[14](out)\n",
        "        out = self.layers[15](out)\n",
        "        out = self.layers[16](out)\n",
        "        out = self.layers[17](out)\n",
        "        out = self.layers[18](out)\n",
        "        out = self.layers[19](out)\n",
        "        return out\n",
        "    \n",
        "    def GetActivationLayer(self, layer):\n",
        "        Result = None\n",
        "        if (self.activation[layer] == \"relu\"): \n",
        "            Result = nn.LeakyReLU(ReluAlpha) if ReluAlpha != 0 else nn.ReLU() \n",
        "        elif (self.activation[layer] == \"relu6\"):\n",
        "            Result = nn.ReLU6()\n",
        "        elif (self.activation[layer] == \"elu\"): \n",
        "            Result = nn.ELU(alpha = EluAlpha) \n",
        "        elif (self.activation[layer] == \"tanh\"):\n",
        "            Result = nn.Tanh()\n",
        "        elif (self.activation[layer] == \"sigmoid\"): \n",
        "            Result = nn.Sigmoid() \n",
        "        return Result"
      ],
      "metadata": {
        "id": "-29vdFleKx5B"
      },
      "execution_count": null,
      "outputs": []
    },
    {
      "cell_type": "code",
      "source": [
        "def train_valid_test_split(X_Data, train_size, valid_size, Y_Data = None, random_state = None, shuffle = True, stratify = None):\n",
        "    #Split the dataset into a Train, Validation and Test set\n",
        "    \n",
        "    if (type(train_size) == int and sum([train_size, valid_size]) >= len(X_Data)) or (type(train_size) != int and sum([train_size, valid_size]) >= 1):\n",
        "        raise ValueError(f\"The train_size [{train_size}] + the valid_size [{valid_size}] should sum up to less than 100% so that there's some percentage left for the test set\")\n",
        "    \n",
        "    TrainIdx, ValidTestIdx = train_test_split(np.arange(len(X_Data)), train_size = train_size, shuffle = shuffle, stratify = stratify, random_state = random_state)\n",
        "    TrainX     = X_Data[TrainIdx]\n",
        "    ValidTestX = X_Data[ValidTestIdx]\n",
        "    if Y_Data is not None:\n",
        "        TrainY     = Y_Data[TrainIdx]\n",
        "        ValidTestY = Y_Data[ValidTestIdx]\n",
        "    \n",
        "    if type(train_size) != int:\n",
        "        test_size  = 1 - train_size - valid_size \n",
        "        valid_size = 1 - (test_size / (valid_size + test_size)) \n",
        "        test_size  = 1 - valid_size \n",
        "    \n",
        "    if Y_Data is not None:\n",
        "        ValidX, TestX, ValidY, TestY = train_test_split(ValidTestX, ValidTestY, train_size = valid_size, shuffle = shuffle, stratify = stratify[ValidTestIdx] if stratify is not None else None, random_state = random_state)\n",
        "        return TrainX, ValidX, TestX, TrainY, ValidY, TestY\n",
        "    else:\n",
        "        ValidX, TestX = train_test_split(ValidTestX, train_size = valid_size, shuffle = shuffle, stratify = stratify[ValidTestIdx] if stratify is not None else None, random_state = random_state)\n",
        "        return TrainX, ValidX, TestX"
      ],
      "metadata": {
        "id": "FvhI3xsvK-c9"
      },
      "execution_count": null,
      "outputs": []
    },
    {
      "cell_type": "code",
      "source": [
        "def ClassAccMulti(Targets, Preds, K):\n",
        "# Calculate the Class-Wise accuracy for a multi-class task\n",
        "    return(np.mean([(Targets == k) == (Preds == k) for k in range(K)]))"
      ],
      "metadata": {
        "id": "XlP85wifK14l"
      },
      "execution_count": null,
      "outputs": []
    },
    {
      "cell_type": "code",
      "source": [
        "def AccCalculation(Y_Hat, Targets):    \n",
        "# Calculate the Accuracy given the Actual values and Predictions for Binary and Multiclass Classification\n",
        "    if isinstance(Targets, torch.Tensor):\n",
        "        Targets = Targets.cpu().numpy()\n",
        "    \n",
        "    if isinstance(Y_Hat, torch.Tensor):\n",
        "        Y_Hat = Y_Hat.cpu().numpy()\n",
        "        \n",
        "    return np.mean(Y_Hat == Targets)"
      ],
      "metadata": {
        "id": "7qgbWHMdLQIe"
      },
      "execution_count": null,
      "outputs": []
    },
    {
      "cell_type": "code",
      "source": [
        "def AUCCalculation(Targets, Y_Prob, Y_Hat, Verbose = True):\n",
        "# Calculate the Area Under the ROC Curve given the Actual values and Predictions for Binary and Multiclass Classification using sklearn's roc_auc_score()\n",
        "    if isinstance(Targets, torch.Tensor):\n",
        "        Targets = Targets.cpu().numpy()\n",
        "    \n",
        "    if isinstance(Y_Prob, torch.Tensor):\n",
        "        Y_Prob = Y_Prob.cpu().numpy()\n",
        "    \n",
        "    if isinstance(Y_Hat, torch.Tensor):\n",
        "        Y_Hat = Y_Hat.cpu().numpy()\n",
        "    \n",
        "    try:\n",
        "        CurMetric2 = roc_auc_score(Targets, Y_Prob, multi_class = \"ovr\", average = 'weighted') #Calculating Weighted AUC #Cares for performance both in Positives and Negatives (but may not fare well with heavy class imbalance)\n",
        "    except Exception as exc:\n",
        "        CurMetric2 = np.nan\n",
        "        if Verbose:\n",
        "            warnings.warn(f\"\\nAn error occurred in AUC calculation (probably because of missing classes in the random batch of data?).\\nThe error reads: {exc}\")\n",
        "            print(\"AUC Warning. set(Targets):\", list(set(Targets.reshape(-1))), \"set(Outputs): \", list(set(Y_Hat.reshape(-1))))\n",
        "            \n",
        "    return CurMetric2"
      ],
      "metadata": {
        "id": "eHmvtLkiLRKW"
      },
      "execution_count": null,
      "outputs": []
    },
    {
      "cell_type": "code",
      "source": [
        "def F1ScoreCalculation(Targets, Y_Hat):\n",
        "# Calculate the F1 score given the Actual values and Predictions for Binary and Multiclass Classification using sklearn's f1_score()\n",
        "    if isinstance(Targets, torch.Tensor):\n",
        "        Targets = Targets.cpu().numpy()\n",
        "    \n",
        "    if isinstance(Y_Hat, torch.Tensor):\n",
        "        Y_Hat = Y_Hat.cpu().numpy()\n",
        "    \n",
        "    try:\n",
        "        CurMetric3 = f1_score(Targets, Y_Hat, average = 'weighted') #Calculating Weighted F1 #Cares about balance between Precision and Recall (Sensitivity)\n",
        "    except Exception as exc:\n",
        "        CurMetric3 = np.nan\n",
        "        warnings.warn(f\"\\nAn error occurred in F1 score calculation (probably because of missing classes in the random batch of data?).\\nThe error reads: {exc}\")\n",
        "            \n",
        "    return CurMetric3"
      ],
      "metadata": {
        "id": "eeBhV5vQLSPl"
      },
      "execution_count": null,
      "outputs": []
    },
    {
      "cell_type": "code",
      "source": [
        "def PrintIterationMetrics(it, epochs, t0, train_loss, test_loss, first_metric, first_metric_Name, second_metric, second_metric_Name, third_metric, third_metric_Name, MaxTrainLossLen, MaxTestLossLen, MaxMetric1Len, MaxMetric2Len, MaxMetric3Len):\n",
        "#Print information about the Current Epoch, Train/Test losses, return the Max length of each metric\n",
        "    dt = datetime.now() - t0\n",
        "\n",
        "    strTrainLoss = f\"{train_loss:.4f}\"\n",
        "    strTestLoss = f\"{test_loss:.4f}\"\n",
        "    strMetric1 = f'{first_metric:.3f}'\n",
        "    strMetric2 = f'{second_metric:.3f}'\n",
        "    strMetric3 = f'{third_metric:.3f}'\n",
        "    if it == 0:\n",
        "        MaxTrainLossLen = len(strTrainLoss)\n",
        "        MaxTestLossLen = len(strTestLoss)\n",
        "        MaxMetric1Len = len(strMetric1)\n",
        "        MaxMetric2Len = len(strMetric2)\n",
        "        MaxMetric3Len = len(strMetric3)\n",
        "    print(f'Epoch {ZeroANumber(it+1, len(str(epochs)))}/{epochs}, Train Loss: {SpaceAString(strTrainLoss, MaxTrainLossLen)}, Test Loss: {SpaceAString(strTestLoss, MaxTestLossLen)} | {first_metric_Name}: {SpaceAString(strMetric1, MaxMetric1Len)}, {second_metric_Name}: {SpaceAString(strMetric2, MaxMetric1Len)}, {third_metric_Name}: {SpaceAString(strMetric3, MaxMetric1Len)}, Duration: {dt}')\n",
        "    return MaxTrainLossLen, MaxTestLossLen, MaxMetric1Len, MaxMetric2Len, MaxMetric3Len"
      ],
      "metadata": {
        "id": "gZp5oUDjLTT0"
      },
      "execution_count": null,
      "outputs": []
    },
    {
      "cell_type": "code",
      "source": [
        "def UpdateMetricsAndSaveModel(model, train_loss, test_loss, train_best_loss, test_best_loss, CurMetric1, Metric1, CurMetric2, Metric2, CurMetric3, Metric3):\n",
        "#if current model outperform's best model, save current model's state and update best performance metrics to reflect this model's\n",
        "    if (test_loss < test_best_loss): #Saving the model if it outperforms previous iteration's model\n",
        "        test_best_loss = test_loss\n",
        "        train_best_loss = train_loss\n",
        "        torch.save(model.state_dict(), f\"model_dict.pt\") #Saving Model's Dictionary\n",
        "        \n",
        "        if np.isfinite(CurMetric1) and CurMetric1 >= Metric1:\n",
        "            Metric1 = CurMetric1\n",
        "            Metric2 = CurMetric2\n",
        "            Metric3 = CurMetric3\n",
        "            torch.save(model.state_dict(), f\"acc_model_dict.pt\") #Saving Model's Dictionary\n",
        "    return train_best_loss, test_best_loss, Metric1, Metric2, Metric3"
      ],
      "metadata": {
        "id": "Wo9y_siJLUuO"
      },
      "execution_count": null,
      "outputs": []
    },
    {
      "cell_type": "code",
      "source": [
        "def PrintFinishingInformation(start_time, JustCalculateElapsedTime = False):\n",
        "    # Calculate and print the elapsed time over all the training epochs\n",
        "    elapsed_time = time.time() - start_time\n",
        "    if not JustCalculateElapsedTime:\n",
        "        FinishedOn = datetime.now(timezone('US/Eastern')).strftime(\"%a, %Y-%m-%d %H:%M %Z %z\")\n",
        "        print(\"Done (\" + FinishedOn + \") Elapsed time: \" + str(round(elapsed_time, 1)) + \" seconds\")\n",
        "    \n",
        "    return elapsed_time"
      ],
      "metadata": {
        "id": "pvnQaX0EmtIf"
      },
      "execution_count": null,
      "outputs": []
    },
    {
      "cell_type": "code",
      "source": [
        "def TrainModel(model, optimiser, criterion, X_Train, Y_Train):\n",
        "    # Train by calculating the gradients and taking one step\n",
        "    model.train()\n",
        "    \n",
        "    optimiser.zero_grad() #Initialization of the gradient of θ\n",
        "    outputs = model(X_Train) #Getting the prediction using the forward direction of the Neural Net\n",
        "    \n",
        "    loss = criterion(outputs, Y_Train) #Calculating the loss according to the loss function\n",
        "    loss.backward() #Calculating the Gradient Δθ of the loss function with respect to the parameters\n",
        "    \n",
        "    optimiser.step() #Calculates and updates the parameters θ using gradient descent\n",
        "    \n",
        "    return optimiser, outputs, loss"
      ],
      "metadata": {
        "id": "ow63Tf65LX_6"
      },
      "execution_count": null,
      "outputs": []
    },
    {
      "cell_type": "code",
      "source": [
        "def EvaluateModelFromPreds(criterion, Y_Prob, Targets, Verbose):\n",
        "# Use the forward direction of the model following with a sigmoid+threshold or softmax+argmax for binary or multiclass classification, and calculate and return the predictions and evaluation metrics\n",
        "    with torch.no_grad(): \n",
        "        loss_scalar = criterion(Y_Prob, Targets).item() \n",
        "        \n",
        "        Y_Prob = nn.Softmax(dim = 1)(Y_Prob) \n",
        "        _, Y_Hat = torch.max(Y_Prob, 1) #Prediction. torch.max returns both max (value) and argmax (index)\n",
        "\n",
        "        CurMetric1, CurMetric2, CurMetric3 = GetCategoricalMetrics(Y_Prob, Y_Hat, Targets, Verbose = Verbose)\n",
        "        return loss_scalar, CurMetric1, CurMetric2, CurMetric3"
      ],
      "metadata": {
        "id": "fHwEkOOlLZCf"
      },
      "execution_count": null,
      "outputs": []
    },
    {
      "cell_type": "code",
      "source": [
        "def EvalForwardPass(model, inputs, criterion = None, Targets = None): \n",
        "# Use the forward direction of the model, potentially following with a sigmoid+threshold or softmax+argmax for binary or multiclass classification respectively\n",
        "    \n",
        "    if Targets is not None and criterion is None:\n",
        "        warnings.warn(f\"\\nTargets are present but loss cannot be calculated because criterion is None.\")\n",
        "        \n",
        "    model.eval() #Putting model in evaluation mode so that things like dropout() are deactivated\n",
        "    with torch.no_grad(): #Making sure that we don't update the gradient outside the training part\n",
        "        Y_Prob = model(inputs) #Getting the prediction using the forward direction of the Neural Net\n",
        "        \n",
        "        if Targets is not None:\n",
        "            loss_scalar = criterion(Y_Prob, Targets).item() #Calculating the loss according to the loss function\n",
        "\n",
        "        Y_Prob = nn.Softmax(dim = 1)(Y_Prob) #dim: every slice along dim will sum to 1\n",
        "        _, Y_Hat = torch.max(Y_Prob, 1) #Prediction. torch.max returns both max (value) and argmax (index)\n",
        "        \n",
        "    if Targets is not None:\n",
        "        return Y_Prob, Y_Hat, loss_scalar\n",
        "    else:\n",
        "        return Y_Prob, Y_Hat"
      ],
      "metadata": {
        "id": "dNHSQEvzLaAE"
      },
      "execution_count": null,
      "outputs": []
    },
    {
      "cell_type": "code",
      "source": [
        "def FixFormatAndDTypes(device, Inputs, Targets):\n",
        "# Ensure that the Inputs and Targets are Torch Tensors and of the correct shape and dtype before returning them\n",
        "    if isinstance(Inputs, np.ndarray):\n",
        "        Inputs = torch.from_numpy(Inputs)\n",
        "    if isinstance(Targets, np.ndarray):\n",
        "        Targets = torch.from_numpy(Targets)\n",
        "    \n",
        "    Inputs = Inputs.to(device)\n",
        "    Targets = Targets.to(device)\n",
        "    \n",
        "    Targets = Targets.long()\n",
        "    \n",
        "    return Inputs, Targets"
      ],
      "metadata": {
        "id": "IGAzGpdvLa-S"
      },
      "execution_count": null,
      "outputs": []
    },
    {
      "cell_type": "code",
      "source": [
        "def plot_confusion_matrix(cm, classes, normalise = False, title = 'Confusion matrix', colourmap = plt.cm.Blues):\n",
        "# Plot the Confusion Matrix object returned by sklearn's confusion_matrix() and normalise it if normalise==True\n",
        "    plt.grid(False)\n",
        "    if normalise:\n",
        "        print('Confusion matrix')\n",
        "        print(cm)\n",
        "        cm = cm.astype('float') / cm.sum(axis = 1)[:, np.newaxis]\n",
        "        plt.imshow(cm, interpolation = 'nearest', cmap = colourmap)\n",
        "        plt.clim(0.0, 1.0)\n",
        "    else:\n",
        "        plt.imshow(cm, interpolation = 'nearest', cmap = colourmap)\n",
        "    plt.title(title)\n",
        "    with warnings.catch_warnings():\n",
        "        warnings.simplefilter(\"ignore\")\n",
        "        plt.colorbar()\n",
        "    tick_marks = np.arange(len(classes))\n",
        "    plt.xticks(tick_marks, classes, rotation = 45)\n",
        "    plt.yticks(tick_marks, classes)\n",
        "    \n",
        "    fmt = '.2f' if normalise else 'd'\n",
        "    thresh = cm.max() / 2.\n",
        "    for i, j in itertools.product(range(cm.shape[0]), range(cm.shape[1])):\n",
        "        plt.text(j, i, format(cm[i, j], fmt),\n",
        "                 horizontalalignment = \"center\",\n",
        "                 color = \"white\" if cm[i, j] > thresh else \"black\")\n",
        "\n",
        "    plt.tight_layout()\n",
        "    plt.ylabel('True label')\n",
        "    plt.xlabel('Predicted label')\n",
        "    plt.show()\n",
        "\n",
        "def PlotHistory(Train_History, Test_History = None, Key = \"Loss\", figsize = (12, 8), MajorLineStyle = \"--\", MinorLineStyle = \":\", MajorLines = 10, MinorInbetweenLinesEvery = 4, test_alpha = 1.0):\n",
        "    fig, ax = plt.subplots(figsize = figsize)\n",
        "    plt.plot(Train_History, label = f\"Train {Key}\")\n",
        "    if (Test_History is not None):\n",
        "        plt.plot(Test_History, label = f\"Test {Key}\", alpha = test_alpha)\n",
        "    xfrom, xto = ax.get_xlim()\n",
        "    yfrom, yto = ax.get_ylim()\n",
        "    ax.xaxis.set_major_locator(MultipleLocator(int(np.ceil((xto-xfrom)/MajorLines))))\n",
        "    ax.yaxis.set_major_locator(MultipleLocator((yto-yfrom)/MajorLines))\n",
        "    ax.xaxis.set_minor_locator(AutoMinorLocator(MinorInbetweenLinesEvery))\n",
        "    ax.yaxis.set_minor_locator(AutoMinorLocator(MinorInbetweenLinesEvery))\n",
        "    ax.grid(which = 'major', color='#FFFFFF', linestyle = MajorLineStyle)\n",
        "    ax.grid(which = 'minor', color='#CCCCCC', linestyle = MinorLineStyle)\n",
        "    plt.legend()\n",
        "    plt.show()\n",
        "    return None\n",
        "\n",
        "def PlotAllMetrics(Titles, TrainMetrics, TestMetrics = None, figsize = [19, 13], test_alpha = 1.0):\n",
        "    fig, ((ax1, ax2), (ax3, ax4)) = plt.subplots(2, 2, figsize = figsize)\n",
        "    ax1.set_title(Titles[0])\n",
        "    ax1.plot(TrainMetrics[0], label = f\"Train\")\n",
        "    if TestMetrics is not None:\n",
        "        ax1.plot(TestMetrics[0], label = f\"Test\", alpha = test_alpha)\n",
        "    ax1.legend()\n",
        "    ax2.set_title(Titles[1])\n",
        "    ax2.plot(TrainMetrics[1], label = f\"Train\")\n",
        "    if TestMetrics is not None:\n",
        "        ax2.plot(TestMetrics[1], label = f\"Test\", alpha = test_alpha)\n",
        "    ax2.legend()\n",
        "    ax3.set_title(Titles[2])\n",
        "    ax3.plot(TrainMetrics[2], label = f\"Train\")\n",
        "    if TestMetrics is not None:\n",
        "        ax3.plot(TestMetrics[2], label = f\"Test\", alpha = test_alpha)\n",
        "    ax3.legend()\n",
        "    ax4.set_title(Titles[3])\n",
        "    ax4.plot(TrainMetrics[3], label = f\"Train\")\n",
        "    if TestMetrics is not None:\n",
        "        ax4.plot(TestMetrics[3], label = f\"Test\", alpha = test_alpha)\n",
        "    ax4.legend()\n",
        "    plt.show()\n",
        "    return None"
      ],
      "metadata": {
        "id": "H6mpCJI4LcZ0"
      },
      "execution_count": null,
      "outputs": []
    },
    {
      "cell_type": "code",
      "source": [
        "def GetCategoricalMetrics(Y_Prob, Y_Hat, Targets, Verbose = True):\n",
        "# Calculate Categorical variable metrics (Accuracy, Area Under the Curve, F1 score) given the class Probability vector (binary) / matrix (multiclass), the class index (0 to K-1), and the Actual values\n",
        "    test_Acc = AccCalculation(Y_Hat, Targets)\n",
        "    test_AUC = AUCCalculation(Targets, Y_Prob, Y_Hat, Verbose = Verbose)\n",
        "    test_F1 = F1ScoreCalculation(Targets, Y_Hat)\n",
        "    \n",
        "    return test_Acc, test_AUC, test_F1"
      ],
      "metadata": {
        "id": "ILUuoC1QLgOo"
      },
      "execution_count": null,
      "outputs": []
    },
    {
      "cell_type": "code",
      "source": [
        "def PlotCategoricalMetrics(Y_Hat, Targets, ClassNames, normalise, figsize = None):\n",
        "# Plots the Confusion matrix given the class index (0 to K-1), and the Actual values\n",
        "    PrevFigSize = plt.rcParams['figure.figsize']\n",
        "    plt.rcParams['figure.figsize'] = figsize if figsize is not None else PrevFigSize\n",
        "    \n",
        "    cm = confusion_matrix(Targets, Y_Hat)\n",
        "    plot_confusion_matrix(cm, ClassNames, normalise = normalise)\n",
        "    \n",
        "    plt.rcParams['figure.figsize'] = PrevFigSize"
      ],
      "metadata": {
        "id": "7d-C6sp6LkUE"
      },
      "execution_count": null,
      "outputs": []
    },
    {
      "cell_type": "code",
      "source": [
        "def EvalPredict(model, device, test_loader_or_X_Test):\n",
        "# Use EvalForwardPass() to use the forward direction of the model and return the Y_probability, Y_Hat, and respective Y given X\n",
        "    Preds_prob = []\n",
        "    Preds = []\n",
        "    Targets = []\n",
        "    \n",
        "    for inputs, targets in tqdm(test_loader_or_X_Test, total = len(test_loader_or_X_Test), leave = False):\n",
        "        inputs, targets = FixFormatAndDTypes(device, inputs, targets)\n",
        "        outputs_prob, outputs = EvalForwardPass(model, inputs, criterion = None, Targets = None)\n",
        "\n",
        "        Preds_prob.append(outputs_prob)\n",
        "        Preds.append(outputs)\n",
        "        Targets.append(targets)\n",
        "    \n",
        "    Preds_prob = torch.cat(Preds_prob).cpu().numpy()\n",
        "    Preds = torch.cat(Preds).cpu().numpy()\n",
        "    Targets = torch.cat(Targets).cpu().numpy()\n",
        "    \n",
        "    del inputs\n",
        "    del outputs_prob\n",
        "    del outputs\n",
        "    del targets\n",
        "    \n",
        "    return Preds_prob, Preds, Targets"
      ],
      "metadata": {
        "id": "6x5c_CoHLlN4"
      },
      "execution_count": null,
      "outputs": []
    },
    {
      "cell_type": "code",
      "source": [
        "def batch_gd(model, device, criterion, optimiser, scheduler, train_loader, test_loader, epochs, PrintInfoEverynEpochs, train_best_loss, test_best_loss, BestMetric1, BestMetric2, BestMetric3, Verbose = True):\n",
        "# Use the Train, Evaluation, Metrics calculation and printing functions to train a model over # of epochs taking steps in every batch\n",
        "    MaxTrainLossLen, MaxTestLossLen, MaxMetric1Len, MaxMetric2Len, MaxMetric3Len = None, None, None, None, None #For output text formatting\n",
        "    \n",
        "    start_time = time.time() #To calculate the duration of the whole learning procedure\n",
        "    model.to(device) #If there is a GPU, let's ensure model is sent to the GPU    \n",
        "    \n",
        "    #Initialising the Metrics\n",
        "    train_losses, test_losses, train_metric1s, train_metric2s, train_metric3s, test_metric1s, test_metric2s, test_metric3s = np.repeat(np.nan, epochs), np.repeat(np.nan, epochs), np.repeat(np.nan, epochs), np.repeat(np.nan, epochs), np.repeat(np.nan, epochs), np.repeat(np.nan, epochs), np.repeat(np.nan, epochs), np.repeat(np.nan, epochs)\n",
        "    \n",
        "    for it in range(epochs):\n",
        "        t0 = datetime.now() #To calculate the duration of the current epoch\n",
        "        ProbsTrain = []\n",
        "        TargetsTrain = []\n",
        "        Probs = []\n",
        "        Targets = []\n",
        "        \n",
        "        #== Training ==#\n",
        "        for inputs, targets in train_loader:\n",
        "#         for inputs, targets in tqdm(train_loader, total = len(train_loader), leave = False):\n",
        "            inputs, targets = FixFormatAndDTypes(device, inputs, targets) #Making sure we have Tensors of the correct Format and Data Type            \n",
        "            optimiser, outputs, loss = TrainModel(model, optimiser, criterion, inputs, targets) #Training the model on Train set\n",
        "            #This loss includes dropout() and stuff as it was not done under model.eval()\n",
        "            ProbsTrain.append(outputs.cpu())\n",
        "            TargetsTrain.append(targets.cpu())\n",
        "            del inputs, targets, outputs\n",
        "        \n",
        "        ProbsTrain   = torch.cat(ProbsTrain)\n",
        "        TargetsTrain = torch.cat(TargetsTrain)\n",
        "        \n",
        "        train_loss, CurTrainMetric1, CurTrainMetric2, CurTrainMetric3 = EvaluateModelFromPreds(criterion, ProbsTrain, TargetsTrain, Verbose = Verbose) #Evaluating the model on Train set\n",
        "        \n",
        "        #== Evaluation ==#\n",
        "        for inputs, targets in test_loader:\n",
        "#         for inputs, targets in tqdm(test_loader, total = len(test_loader), leave = False):\n",
        "            inputs, targets = FixFormatAndDTypes(device, inputs, targets) #Making sure we have Tensors of the correct Format and Data Type\n",
        "            Y_Prob, _ = EvalForwardPass(model, inputs)\n",
        "            Probs.append(Y_Prob.cpu())\n",
        "            Targets.append(targets.cpu())\n",
        "\n",
        "            del inputs, targets, Y_Prob#, Y_Hat\n",
        "\n",
        "        Probs   = torch.cat(Probs)\n",
        "        Targets = torch.cat(Targets)\n",
        "\n",
        "        test_loss, CurMetric1, CurMetric2, CurMetric3 = EvaluateModelFromPreds(criterion, Probs, Targets, Verbose = Verbose) #Evaluating the model on Evaluation set\n",
        "\n",
        "        if np.any(np.logical_or(torch.isinf(Probs).cpu().numpy(), torch.isnan(Probs).cpu().numpy())):\n",
        "            print(f\"!Predictions contain infinities ({np.mean(np.logical_or(np.isinf(Probs), np.isnan(Probs))) * 100:.2f}%); Stopping!\")\n",
        "            break\n",
        "        \n",
        "        if np.logical_or(np.isinf(test_loss), np.isnan(test_loss)):\n",
        "            print(\"!Loss is Infinite; Stopping!\")\n",
        "            break\n",
        "        \n",
        "        if scheduler is not None:\n",
        "            if list(scheduler.keys())[0].lower() == \"Plateau\".lower():\n",
        "                scheduler[list(scheduler.keys())[0]].step(test_loss)\n",
        "            elif list(scheduler.keys())[0].lower() == \"StepLR\".lower():\n",
        "                scheduler[list(scheduler.keys())[0]].step()\n",
        "        \n",
        "        #Saving the metrics\n",
        "        train_losses[it], train_metric1s[it], train_metric2s[it], train_metric3s[it], test_losses[it], test_metric1s[it], test_metric2s[it], test_metric3s[it] = train_loss, CurTrainMetric1, CurTrainMetric2, CurTrainMetric3, test_loss, CurMetric1, CurMetric2, CurMetric3\n",
        "        \n",
        "        if (it + 1) % PrintInfoEverynEpochs == 0 or it == 0 or it == epochs - 1:\n",
        "            MaxTrainLossLen, MaxTestLossLen, MaxMetric1Len, MaxMetric2Len, MaxMetric3Len = PrintIterationMetrics( #Prints Iteration Metrics\n",
        "                it, epochs, t0, train_loss, test_loss,\n",
        "                CurMetric1, \"Acc\",\n",
        "                CurMetric2, \"AUC\",\n",
        "                CurMetric3, \"F1\" ,\n",
        "                MaxTrainLossLen, MaxTestLossLen,\n",
        "                MaxMetric1Len, MaxMetric2Len, MaxMetric3Len\n",
        "            )\n",
        "        \n",
        "        train_best_loss, test_best_loss, BestMetric1, BestMetric2, BestMetric3 = UpdateMetricsAndSaveModel(model, train_loss, test_loss, train_best_loss, test_best_loss, CurMetric1, BestMetric1, CurMetric2, BestMetric2, CurMetric3, BestMetric3) #Updating Metrics and Saving the model if it outperforms previous iteration's model\n",
        "    \n",
        "    elapsed_time = PrintFinishingInformation(start_time, JustCalculateElapsedTime = False) #Prints finishing information\n",
        "    return train_losses, test_losses, train_best_loss, test_best_loss, train_metric1s, train_metric2s, train_metric3s, test_metric1s, test_metric2s, test_metric3s, CurMetric1, CurMetric2, CurMetric3, BestMetric1, BestMetric2, BestMetric3, elapsed_time"
      ],
      "metadata": {
        "id": "Q2KQMIMCLnBH"
      },
      "execution_count": null,
      "outputs": []
    },
    {
      "cell_type": "code",
      "source": [
        "class MyImagesDataset(Dataset):\n",
        "    def __init__(self, X_Data, Y_Data = None, TransformationsToApply = None):\n",
        "        self.X_Data = X_Data\n",
        "        self.Y_Data = Y_Data\n",
        "        self.TransformationsToApply = TransformationsToApply\n",
        "        \n",
        "        if self.TransformationsToApply is not None:\n",
        "            tmpx = self.TransformationsToApply(self.X_Data[0])\n",
        "        else:\n",
        "            tmpx = transforms.ToTensor()(self.X_Data[0])\n",
        "        self.shape = (self.X_Data.shape[0], *tmpx.shape)\n",
        "        self.len = self.X_Data.shape[0]\n",
        "    \n",
        "    def __getitem__(self, index):\n",
        "        if self.TransformationsToApply is not None:\n",
        "            if self.Y_Data is not None:\n",
        "                return self.TransformationsToApply(self.X_Data[index]), self.Y_Data[index]\n",
        "            else:\n",
        "                return self.TransformationsToApply(self.X_Data[index])\n",
        "        else:\n",
        "            if self.Y_Data is not None:\n",
        "                return transforms.ToTensor()(self.X_Data[index]), self.Y_Data[index]\n",
        "            else:\n",
        "                return transforms.ToTensor()(self.X_Data[index])\n",
        "    \n",
        "    def __len__(self):\n",
        "        return len(self.X_Data)\n",
        "    \n",
        "    def __shape__(self):\n",
        "        return self.shape"
      ],
      "metadata": {
        "id": "H2TeHQd-M0N2"
      },
      "execution_count": null,
      "outputs": []
    },
    {
      "cell_type": "code",
      "source": [
        "# Data Hyperparameters\n",
        "Seed       = 80\n",
        "batch_size = 512\n",
        "TrainPerc  = 0.6\n",
        "ValidPerc  = 0.3\n",
        "TestPerc   = 1 - TrainPerc - ValidPerc\n",
        "\n",
        "\n",
        "# Data Transformations\n",
        "TransfX = transforms.Compose([\n",
        "    transforms.ToTensor()\n",
        "])\n",
        "\n",
        "\n",
        "# Reading the Data\n",
        "Classes = [\"Angry\", \"Happy\", \"Neutral\"]\n",
        "\n",
        "X_DF = pd.read_csv(\"train_data.csv\", header = None, dtype = np.uint8)\n",
        "X_Data = X_DF.values.reshape(-1, 48, 48, 1)\n",
        "\n",
        "Y_DF = pd.read_csv(\"train_target.csv\", header = None, dtype = int)\n",
        "Y_Data = Y_DF.values.squeeze()\n",
        "\n",
        "Labels_Data  = np.array([Classes[y] for y in Y_Data])\n",
        "\n",
        "\n",
        "# Creating Train/Valid/Test\n",
        "TrainIndx, ValidIndx, TestIndx = train_valid_test_split(np.arange(X_Data.shape[0]), train_size = TrainPerc, valid_size = ValidPerc, Y_Data = None, random_state = Seed, shuffle = True, stratify = Y_Data)\n",
        "X_Train      =      X_Data[TrainIndx]\n",
        "Y_Train      =      Y_Data[TrainIndx]\n",
        "Labels_Train = Labels_Data[TrainIndx]\n",
        "X_Valid      =      X_Data[ValidIndx]\n",
        "Y_Valid      =      Y_Data[ValidIndx]\n",
        "Labels_Valid = Labels_Data[ValidIndx]\n",
        "X_Test       =      X_Data[TestIndx ]\n",
        "Y_Test       =      Y_Data[TestIndx ]\n",
        "Labels_Test  = Labels_Data[TestIndx ]\n",
        "\n",
        "\n",
        "Dataset_Train = MyImagesDataset(X_Train, Y_Train, TransfX)\n",
        "Dataset_Valid = MyImagesDataset(X_Valid, Y_Valid, TransfX)\n",
        "Dataset_Test  = MyImagesDataset(X_Test , Y_Test , TransfX)\n",
        "\n",
        "Loader_Train = torch.utils.data.DataLoader(\n",
        "    dataset = Dataset_Train,\n",
        "    batch_size = batch_size,\n",
        "    shuffle = True\n",
        ")\n",
        "Loader_Valid = torch.utils.data.DataLoader(\n",
        "    dataset = Dataset_Valid,\n",
        "    batch_size = batch_size,\n",
        "    shuffle = False\n",
        ")\n",
        "Loader_Test = torch.utils.data.DataLoader(\n",
        "    dataset = Dataset_Test,\n",
        "    batch_size = batch_size,\n",
        "    shuffle = False\n",
        ")\n",
        "\n",
        "# Extracting Information\n",
        "tmpx, tmpy = next(iter(Loader_Valid))\n",
        "K_Length, N, D_Length, H1, W1 = len(set(Y_Train.squeeze().tolist())), len(Y_Train), *tmpx.shape[1:]\n",
        "print(f\"X_Train.shape: {(len(Y_Train), *tmpx.shape[1:])} Y_Train.shape: {Y_Train.shape} min: {tmpx.min()} max: {tmpx.max()}\")\n",
        "print(f\"X_Valid.shape: {(len(Y_Valid), *tmpx.shape[1:])} Y_Train.shape: {Y_Valid.shape} min: {tmpx.min()} max: {tmpx.max()}\")\n",
        "print(f\"X_Test.shape : {(len(Y_Test ), *tmpx.shape[1:])} Y_Test.shape : {Y_Test.shape } min: {tmpx.min()} max: {tmpx.max()}\")\n",
        "print(f\"K_Length: {K_Length}\")\n",
        "print(f\"N: {N} H1: {H1} W1: {W1} D_Length: {D_Length}\")\n",
        "\n",
        "plt.rcParams['figure.figsize'] = [13, 4]\n",
        "print(f\"\\nClasses [TRAIN]:\")\n",
        "sns.countplot(x = [Classes[int(y)] for y in sorted(Y_Train.squeeze())])\n",
        "plt.show()\n",
        "\n",
        "print(f\"\\nClasses [Valid]:\")\n",
        "sns.countplot(x = [Classes[int(y)] for y in sorted(Y_Valid.squeeze())])\n",
        "plt.show()\n",
        "\n",
        "print(f\"\\nClasses [Test ]:\")\n",
        "sns.countplot(x = [Classes[int(y)] for y in sorted(Y_Test.squeeze() )])\n",
        "plt.show()\n",
        "\n",
        "CountTrain = sorted(Counter(Y_Train.squeeze()).items())\n",
        "FreqTrain = np.array([kv[1] for kv in CountTrain]) / len(Y_Train) * 100\n",
        "CountValid = sorted(Counter(Y_Valid.squeeze()).items())\n",
        "FreqValid = np.array([kv[1] for kv in CountValid]) / len(Y_Valid) * 100\n",
        "CountTest = sorted(Counter(Y_Valid.squeeze()).items())\n",
        "FreqTest = np.array([kv[1] for kv in CountTest]) / len(Y_Valid) * 100\n",
        "for i in range(len(FreqTrain)):\n",
        "    print(f\"{i}: Train {SpaceAString(f'{FreqTrain[i]:.2f}', MaxLength = 5)}% [{SpaceAString(f'{CountTrain[i][1]}', MaxLength = 5)}], Valid {SpaceAString(f'{FreqValid[i]:.2f}', MaxLength = 5)}% [{SpaceAString(f'{CountValid[i][1]}', MaxLength = 5)}], Test {SpaceAString(f'{FreqTest[i]:.2f}', MaxLength = 5)}% [{SpaceAString(f'{CountTest[i][1]}', MaxLength = 5)}]\")\n",
        "plt.rcParams['figure.figsize'] = OrigFigSize"
      ],
      "metadata": {
        "colab": {
          "base_uri": "https://localhost:8080/",
          "height": 1000
        },
        "id": "r_QrXrR-BzQU",
        "outputId": "262e7554-97a2-4214-d9ba-30bf4e58b389"
      },
      "execution_count": null,
      "outputs": [
        {
          "output_type": "stream",
          "name": "stdout",
          "text": [
            "X_Train.shape: (9705, 1, 48, 48) Y_Train.shape: (9705,) min: 0.0 max: 1.0\n",
            "X_Valid.shape: (4852, 1, 48, 48) Y_Train.shape: (4852,) min: 0.0 max: 1.0\n",
            "X_Test.shape : (1618, 1, 48, 48) Y_Test.shape : (1618,) min: 0.0 max: 1.0\n",
            "K_Length: 3\n",
            "N: 9705 H1: 48 W1: 48 D_Length: 1\n",
            "\n",
            "Classes [TRAIN]:\n"
          ]
        },
        {
          "output_type": "display_data",
          "data": {
            "text/plain": [
              "<Figure size 936x288 with 1 Axes>"
            ],
            "image/png": "[encoded data removed]"
          },
          "metadata": {
            "needs_background": "light"
          }
        },
        {
          "output_type": "stream",
          "name": "stdout",
          "text": [
            "\n",
            "Classes [Valid]:\n"
          ]
        },
        {
          "output_type": "display_data",
          "data": {
            "text/plain": [
              "<Figure size 936x288 with 1 Axes>"
            ],
            "image/png": "[encoded data removed]"
          },
          "metadata": {
            "needs_background": "light"
          }
        },
        {
          "output_type": "stream",
          "name": "stdout",
          "text": [
            "\n",
            "Classes [Test ]:\n"
          ]
        },
        {
          "output_type": "display_data",
          "data": {
            "text/plain": [
              "<Figure size 936x288 with 1 Axes>"
            ],
            "image/png": "[encoded data removed]"
          },
          "metadata": {
            "needs_background": "light"
          }
        },
        {
          "output_type": "stream",
          "name": "stdout",
          "text": [
            "0: Train 24.70% [ 2397], Valid 24.71% [ 1199], Test 24.71% [ 1199]\n",
            "1: Train 44.61% [ 4329], Valid 44.60% [ 2164], Test 44.60% [ 2164]\n",
            "2: Train 30.70% [ 2979], Valid 30.69% [ 1489], Test 30.69% [ 1489]\n"
          ]
        }
      ]
    },
    {
      "cell_type": "code",
      "source": [
        "conv_input_size = (H1, W1, D_Length)\n",
        "input_size = np.prod(conv_input_size)\n",
        "output_size = K_Length\n",
        "print(\"conv_input_size: \" + str(conv_input_size) + \", input_size: \" + str(input_size) + \", D_Length: \" + str(D_Length) + \", output_size: \" + str(output_size))\n",
        "hn1 = D_Length\n",
        "\n",
        "ReluAlpha = 0\n",
        "EluAlpha = 0\n",
        "\n",
        "layer_type = [\"conv\", \"stridedconv\", \"convpool\", \"dense\", \"dense\"]\n",
        "num_units = [hn1, 32, 64, 128, 256, 512]\n",
        "activation = [\"relu\", \"relu\", \"relu\", \"relu\", \"relu\"]\n",
        "dropout = [0.1, 0.1, 0.1, 0.1, 0.1]\n",
        "usebias = [False, False, False, True, True] + [True]\n",
        "\n",
        "batchnorm_momentum = [0.7, 0.7, 0.7, None, None]\n",
        "\n",
        "conv_filter_size   = 5\n",
        "conv_mode          = [\"same\" if l in [\"conv\", \"stridedconv\", \"convpool\"] else None for l in layer_type]\n",
        "conv_stride        = 2\n",
        "conv_dilation      = 1\n",
        "\n",
        "conv_pool_size     = 2\n",
        "conv_pool_dilation = 1 #Dilation on Pooling layer\n",
        "conv_pool_stride   = conv_pool_size #Stride on Pooling: a 2x2 pooling with stride 2 will half the size of an image\n",
        "conv_pool_padding  = 0 \n",
        "\n",
        "conv_padding, conv_output_size = [2, 2, 2, None, None], [28, 28, 14, 18432, 256, 512]\n",
        "print()\n",
        "print(\"nPadding:\", conv_padding)\n",
        "print(\"X's Dims:\", conv_output_size)\n",
        "print(\"num_units\", num_units)\n",
        "print(f\"\\nbatch_size: {batch_size}\")\n",
        "\n",
        "l2_lamda = 0.10\n",
        "mu = 0.99"
      ],
      "metadata": {
        "colab": {
          "base_uri": "https://localhost:8080/"
        },
        "id": "G1t6CFzFMIfP",
        "outputId": "1ba75eff-b255-4b12-8b5a-c8e07d4c2941"
      },
      "execution_count": null,
      "outputs": [
        {
          "output_type": "stream",
          "name": "stdout",
          "text": [
            "conv_input_size: (48, 48, 1), input_size: 2304, D_Length: 1, output_size: 3\n",
            "\n",
            "nPadding: [2, 2, 2, None, None]\n",
            "X's Dims: [28, 28, 14, 18432, 256, 512]\n",
            "num_units [1, 32, 64, 128, 256, 512]\n",
            "\n",
            "batch_size: 512\n"
          ]
        }
      ]
    },
    {
      "cell_type": "code",
      "source": [
        "print(device)\n",
        "\n",
        "model = Net(K_Length, activation, layer_type, num_units, usebias, dropout, conv_input_size, conv_output_size, conv_filter_size, conv_stride, conv_padding, batchnorm_momentum, conv_pool_size, conv_pool_stride, conv_pool_padding, conv_pool_dilation)\n",
        "# if device != \"cpu\":\n",
        "#     model = nn.DataParallel(model)\n",
        "print(model)\n",
        "\n",
        "# Initializing the Metrics\n",
        "train_losses, train_metric1s, train_metric2s, train_metric3s, valid_losses, valid_metric1s, valid_metric2s, valid_metric3s = np.array([]), np.array([]), np.array([]), np.array([]), np.array([]), np.array([]), np.array([]), np.array([])\n",
        "train_best_loss, valid_best_loss, valid_best_metric1, valid_best_metric2, valid_best_metric3 = np.Inf, np.Inf, 0, np.nan, np.nan"
      ],
      "metadata": {
        "colab": {
          "base_uri": "https://localhost:8080/"
        },
        "id": "L-qpYu1JMJJB",
        "outputId": "13d20310-afb6-49b4-813d-1d034574a4c3"
      },
      "execution_count": null,
      "outputs": [
        {
          "output_type": "stream",
          "name": "stdout",
          "text": [
            "cuda:0\n",
            "Net(\n",
            "  (layers): ModuleList(\n",
            "    (0): Conv2d(1, 32, kernel_size=(5, 5), stride=(1, 1), padding=(2, 2), bias=False)\n",
            "    (1): BatchNorm2d(32, eps=1e-05, momentum=0.7, affine=True, track_running_stats=True)\n",
            "    (2): ReLU()\n",
            "    (3): Dropout(p=0.1, inplace=False)\n",
            "    (4): Conv2d(32, 64, kernel_size=(5, 5), stride=(2, 2), padding=(2, 2), bias=False)\n",
            "    (5): BatchNorm2d(64, eps=1e-05, momentum=0.7, affine=True, track_running_stats=True)\n",
            "    (6): ReLU()\n",
            "    (7): Dropout(p=0.1, inplace=False)\n",
            "    (8): Conv2d(64, 128, kernel_size=(5, 5), stride=(1, 1), padding=(2, 2), bias=False)\n",
            "    (9): MaxPool2d(kernel_size=2, stride=2, padding=0, dilation=1, ceil_mode=False)\n",
            "    (10): BatchNorm2d(128, eps=1e-05, momentum=0.7, affine=True, track_running_stats=True)\n",
            "    (11): ReLU()\n",
            "    (12): Dropout(p=0.1, inplace=False)\n",
            "    (13): Linear(in_features=18432, out_features=256, bias=True)\n",
            "    (14): ReLU()\n",
            "    (15): Dropout(p=0.1, inplace=False)\n",
            "    (16): Linear(in_features=256, out_features=512, bias=True)\n",
            "    (17): ReLU()\n",
            "    (18): Dropout(p=0.1, inplace=False)\n",
            "    (19): Linear(in_features=512, out_features=3, bias=True)\n",
            "  )\n",
            ")\n"
          ]
        }
      ]
    },
    {
      "cell_type": "code",
      "source": [
        "# Loss Function and Optimization\n",
        "criterion = nn.CrossEntropyLoss()\n",
        "\n",
        "learning_rate = 0.001\n",
        "optimiser = torch.optim.AdamW(model.parameters(), lr = learning_rate, betas = (mu, 0.999), weight_decay = l2_lamda, amsgrad = False)"
      ],
      "metadata": {
        "id": "DX9BLGODMNRn"
      },
      "execution_count": null,
      "outputs": []
    },
    {
      "cell_type": "code",
      "source": [
        "Epochs = int(50)\n",
        "PrintInfoEverynEpochs = 1\n",
        "scheduler = None\n",
        "# scheduler = torch.optim.lr_scheduler.StepLR(optimiser, step_size = Epochs // 10 if Epochs > 10 else 3, gamma = 0.8)\n",
        "\n",
        "new_train_losses, new_valid_losses, train_best_loss, valid_best_loss, new_train_metric1s, new_train_metric2s, new_train_metric3s, new_valid_metric1s, new_valid_metric2s, new_valid_metric3s,\\\n",
        "Metric1, Metric2, Metric3, valid_best_metric1, valid_best_metric2, valid_best_metric3, elapsed_time = \\\n",
        "    batch_gd(model, device, criterion, optimiser, scheduler, Loader_Train, Loader_Valid, epochs = Epochs, PrintInfoEverynEpochs = PrintInfoEverynEpochs,\n",
        "             train_best_loss = train_best_loss, test_best_loss = valid_best_loss, BestMetric1 = valid_best_metric1, BestMetric2 = valid_best_metric2, BestMetric3 = valid_best_metric3,\n",
        "             Verbose = False\n",
        "    )\n",
        "\n",
        "train_losses, valid_losses = np.append(train_losses, new_train_losses), np.append(valid_losses, new_valid_losses)\n",
        "train_metric1s, train_metric2s, train_metric3s = np.append(train_metric1s, new_train_metric1s), np.append(train_metric2s, new_train_metric2s), np.append(train_metric3s, new_train_metric3s)\n",
        "valid_metric1s, valid_metric2s, valid_metric3s = np.append(valid_metric1s, new_valid_metric1s), np.append(valid_metric2s, new_valid_metric2s), np.append(valid_metric3s, new_valid_metric3s)\n",
        "train_loss, valid_loss, valid_metric1, valid_metric2, valid_metric3 = LastNonNan(new_train_losses), LastNonNan(new_valid_losses), Metric1, Metric2, Metric3\n",
        "\n",
        "print(f'\\ntrain_best_loss: {train_best_loss:.5f}, valid_best_loss: {valid_best_loss:.5f}, Acc: {valid_metric1:.5f}, AUC: {valid_metric2:.5f}, F1: {valid_metric3:.5f}')"
      ],
      "metadata": {
        "colab": {
          "base_uri": "https://localhost:8080/"
        },
        "id": "0O9tr1ZwMO6y",
        "outputId": "2b2840be-6d25-4488-b81d-cf9a1df8bef7"
      },
      "execution_count": null,
      "outputs": [
        {
          "output_type": "stream",
          "name": "stdout",
          "text": [
            "Epoch 01/50, Train Loss: 1.3444, Test Loss: 1.0815 | Acc: 0.443, AUC: 0.595, F1: 0.327, Duration: 0:00:03.725608\n",
            "Epoch 02/50, Train Loss: 1.0567, Test Loss: 1.0664 | Acc: 0.474, AUC: 0.625, F1: 0.408, Duration: 0:00:03.986840\n",
            "Epoch 03/50, Train Loss: 1.0082, Test Loss: 1.0335 | Acc: 0.510, AUC: 0.678, F1: 0.443, Duration: 0:00:03.610828\n",
            "Epoch 04/50, Train Loss: 0.9743, Test Loss: 1.0182 | Acc: 0.540, AUC: 0.707, F1: 0.491, Duration: 0:00:03.278074\n",
            "Epoch 05/50, Train Loss: 0.9458, Test Loss: 1.0068 | Acc: 0.552, AUC: 0.731, F1: 0.513, Duration: 0:00:02.747564\n",
            "Epoch 06/50, Train Loss: 0.9208, Test Loss: 0.9933 | Acc: 0.567, AUC: 0.749, F1: 0.558, Duration: 0:00:02.646003\n",
            "Epoch 07/50, Train Loss: 0.8860, Test Loss: 0.9807 | Acc: 0.589, AUC: 0.763, F1: 0.566, Duration: 0:00:02.678984\n",
            "Epoch 08/50, Train Loss: 0.8576, Test Loss: 0.9641 | Acc: 0.597, AUC: 0.780, F1: 0.583, Duration: 0:00:02.666189\n",
            "Epoch 09/50, Train Loss: 0.8258, Test Loss: 0.9554 | Acc: 0.614, AUC: 0.796, F1: 0.596, Duration: 0:00:02.691108\n",
            "Epoch 10/50, Train Loss: 0.7993, Test Loss: 0.9422 | Acc: 0.621, AUC: 0.806, F1: 0.594, Duration: 0:00:02.700769\n",
            "Epoch 11/50, Train Loss: 0.7785, Test Loss: 0.9250 | Acc: 0.630, AUC: 0.814, F1: 0.606, Duration: 0:00:02.682243\n",
            "Epoch 12/50, Train Loss: 0.7501, Test Loss: 0.9274 | Acc: 0.637, AUC: 0.821, F1: 0.625, Duration: 0:00:02.674375\n",
            "Epoch 13/50, Train Loss: 0.7285, Test Loss: 0.9115 | Acc: 0.654, AUC: 0.831, F1: 0.641, Duration: 0:00:02.664517\n",
            "Epoch 14/50, Train Loss: 0.7092, Test Loss: 0.9172 | Acc: 0.662, AUC: 0.836, F1: 0.658, Duration: 0:00:02.745060\n",
            "Epoch 15/50, Train Loss: 0.6822, Test Loss: 0.9038 | Acc: 0.668, AUC: 0.840, F1: 0.663, Duration: 0:00:02.646124\n",
            "Epoch 16/50, Train Loss: 0.6547, Test Loss: 0.8949 | Acc: 0.673, AUC: 0.847, F1: 0.671, Duration: 0:00:02.634005\n",
            "Epoch 17/50, Train Loss: 0.6328, Test Loss: 0.8947 | Acc: 0.682, AUC: 0.849, F1: 0.677, Duration: 0:00:02.646889\n",
            "Epoch 18/50, Train Loss: 0.6049, Test Loss: 0.8762 | Acc: 0.682, AUC: 0.851, F1: 0.674, Duration: 0:00:02.661359\n",
            "Epoch 19/50, Train Loss: 0.5853, Test Loss: 0.8795 | Acc: 0.681, AUC: 0.856, F1: 0.671, Duration: 0:00:02.632981\n",
            "Epoch 20/50, Train Loss: 0.5635, Test Loss: 0.8662 | Acc: 0.694, AUC: 0.858, F1: 0.688, Duration: 0:00:02.608068\n",
            "Epoch 21/50, Train Loss: 0.5408, Test Loss: 0.8693 | Acc: 0.688, AUC: 0.861, F1: 0.679, Duration: 0:00:02.601489\n",
            "Epoch 22/50, Train Loss: 0.5075, Test Loss: 0.8554 | Acc: 0.698, AUC: 0.864, F1: 0.694, Duration: 0:00:02.586835\n",
            "Epoch 23/50, Train Loss: 0.4817, Test Loss: 0.8613 | Acc: 0.695, AUC: 0.864, F1: 0.691, Duration: 0:00:02.594754\n",
            "Epoch 24/50, Train Loss: 0.4572, Test Loss: 0.8514 | Acc: 0.696, AUC: 0.866, F1: 0.694, Duration: 0:00:02.585719\n",
            "Epoch 25/50, Train Loss: 0.4355, Test Loss: 0.8563 | Acc: 0.692, AUC: 0.863, F1: 0.694, Duration: 0:00:02.604354\n",
            "Epoch 26/50, Train Loss: 0.4072, Test Loss: 0.8467 | Acc: 0.703, AUC: 0.867, F1: 0.702, Duration: 0:00:02.604220\n",
            "Epoch 27/50, Train Loss: 0.3884, Test Loss: 0.8403 | Acc: 0.705, AUC: 0.869, F1: 0.704, Duration: 0:00:02.607643\n",
            "Epoch 28/50, Train Loss: 0.3740, Test Loss: 0.8482 | Acc: 0.705, AUC: 0.863, F1: 0.703, Duration: 0:00:02.705610\n",
            "Epoch 29/50, Train Loss: 0.3435, Test Loss: 0.8361 | Acc: 0.708, AUC: 0.869, F1: 0.706, Duration: 0:00:02.607568\n",
            "Epoch 30/50, Train Loss: 0.3238, Test Loss: 0.8389 | Acc: 0.709, AUC: 0.867, F1: 0.706, Duration: 0:00:02.627030\n",
            "Epoch 31/50, Train Loss: 0.3061, Test Loss: 0.8409 | Acc: 0.704, AUC: 0.863, F1: 0.704, Duration: 0:00:02.686640\n",
            "Epoch 32/50, Train Loss: 0.2987, Test Loss: 0.8445 | Acc: 0.696, AUC: 0.862, F1: 0.699, Duration: 0:00:02.615417\n",
            "Epoch 33/50, Train Loss: 0.2896, Test Loss: 0.8403 | Acc: 0.700, AUC: 0.861, F1: 0.698, Duration: 0:00:02.614233\n",
            "Epoch 34/50, Train Loss: 0.2722, Test Loss: 0.8376 | Acc: 0.704, AUC: 0.864, F1: 0.703, Duration: 0:00:02.611717\n",
            "Epoch 35/50, Train Loss: 0.2458, Test Loss: 0.8290 | Acc: 0.714, AUC: 0.866, F1: 0.712, Duration: 0:00:02.645719\n",
            "Epoch 36/50, Train Loss: 0.2235, Test Loss: 0.8301 | Acc: 0.712, AUC: 0.867, F1: 0.708, Duration: 0:00:02.744550\n",
            "Epoch 37/50, Train Loss: 0.2179, Test Loss: 0.8309 | Acc: 0.706, AUC: 0.867, F1: 0.702, Duration: 0:00:02.622071\n",
            "Epoch 38/50, Train Loss: 0.1982, Test Loss: 0.8273 | Acc: 0.709, AUC: 0.866, F1: 0.706, Duration: 0:00:02.792742\n",
            "Epoch 39/50, Train Loss: 0.1919, Test Loss: 0.8359 | Acc: 0.703, AUC: 0.860, F1: 0.702, Duration: 0:00:02.635790\n",
            "Epoch 40/50, Train Loss: 0.1789, Test Loss: 0.8298 | Acc: 0.711, AUC: 0.862, F1: 0.711, Duration: 0:00:02.634854\n",
            "Epoch 41/50, Train Loss: 0.1679, Test Loss: 0.8308 | Acc: 0.710, AUC: 0.862, F1: 0.708, Duration: 0:00:02.656046\n",
            "Epoch 42/50, Train Loss: 0.1530, Test Loss: 0.8270 | Acc: 0.715, AUC: 0.865, F1: 0.714, Duration: 0:00:02.653412\n",
            "Epoch 43/50, Train Loss: 0.1444, Test Loss: 0.8292 | Acc: 0.715, AUC: 0.861, F1: 0.715, Duration: 0:00:02.633474\n",
            "Epoch 44/50, Train Loss: 0.1404, Test Loss: 0.8234 | Acc: 0.715, AUC: 0.869, F1: 0.713, Duration: 0:00:02.620067\n",
            "Epoch 45/50, Train Loss: 0.1307, Test Loss: 0.8325 | Acc: 0.706, AUC: 0.863, F1: 0.704, Duration: 0:00:02.616490\n",
            "Epoch 46/50, Train Loss: 0.1251, Test Loss: 0.8244 | Acc: 0.718, AUC: 0.867, F1: 0.714, Duration: 0:00:02.616426\n",
            "Epoch 47/50, Train Loss: 0.1253, Test Loss: 0.8259 | Acc: 0.715, AUC: 0.866, F1: 0.712, Duration: 0:00:02.618152\n",
            "Epoch 48/50, Train Loss: 0.1126, Test Loss: 0.8244 | Acc: 0.717, AUC: 0.865, F1: 0.713, Duration: 0:00:02.622122\n",
            "Epoch 49/50, Train Loss: 0.1126, Test Loss: 0.8262 | Acc: 0.712, AUC: 0.868, F1: 0.708, Duration: 0:00:02.704349\n",
            "Epoch 50/50, Train Loss: 0.1022, Test Loss: 0.8292 | Acc: 0.712, AUC: 0.863, F1: 0.711, Duration: 0:00:02.618757\n",
            "Done (Tue, 2022-07-05 22:18 EDT -0400) Elapsed time: 153.6 seconds\n",
            "\n",
            "train_best_loss: 0.14043, valid_best_loss: 0.82340, Acc: 0.71187, AUC: 0.86256, F1: 0.71096\n"
          ]
        }
      ]
    },
    {
      "cell_type": "code",
      "source": [
        "PlotHistory(train_losses[-(100*2):], valid_losses[-(100*2):], figsize=(19, 6), test_alpha = 1)"
      ],
      "metadata": {
        "colab": {
          "base_uri": "https://localhost:8080/",
          "height": 374
        },
        "id": "Wba7v125MSV-",
        "outputId": "71a316bc-6f43-4509-d582-fbcbd52efe73"
      },
      "execution_count": null,
      "outputs": [
        {
          "output_type": "display_data",
          "data": {
            "text/plain": [
              "<Figure size 1368x432 with 1 Axes>"
            ],
            "image/png": "[encoded data removed]"
          },
          "metadata": {
            "needs_background": "light"
          }
        }
      ]
    },
    {
      "cell_type": "code",
      "source": [
        "PlotAllMetrics([\"Loss\", \"Acc\", \"AUC\", \"F1\"],\n",
        "               [train_losses, train_metric1s, train_metric2s, train_metric3s],\n",
        "               TestMetrics = [valid_losses, valid_metric1s, valid_metric2s, valid_metric3s],\n",
        "               figsize = [19, 10], test_alpha = 0.90)"
      ],
      "metadata": {
        "colab": {
          "base_uri": "https://localhost:8080/",
          "height": 607
        },
        "id": "yV_ef45vMXm-",
        "outputId": "c3c24500-9316-4ce8-d2ba-82f8dd4ee9bc"
      },
      "execution_count": null,
      "outputs": [
        {
          "output_type": "display_data",
          "data": {
            "text/plain": [
              "<Figure size 1368x720 with 4 Axes>"
            ],
            "image/png": "[encoded data removed]"
          },
          "metadata": {
            "needs_background": "light"
          }
        }
      ]
    },
    {
      "cell_type": "code",
      "source": [
        "Labels = Classes\n",
        "with torch.no_grad(): # Making sure that we don't update the gradient outside the training part\n",
        "        model.eval()\n",
        "        model.to(device)\n",
        "        \n",
        "        # Using the Forward direction of the model to get the Predictions\n",
        "        Preds_prob, Preds, Targets = EvalPredict(model, device, Loader_Test)\n",
        "\n",
        "test_Acc, test_AUC, test_F1 = GetCategoricalMetrics(Preds_prob, Preds, Targets)\n",
        "print(f'Sample-wise Acc: {test_Acc * 100:.2f}%, AUC: {test_AUC:.2f}, F1: {test_F1:.2f}')\n",
        "print(f\"Class-wise  Acc: {ClassAccMulti(Targets, Preds, K_Length) * 100:.2f}%, Recall: {recall_score(Targets, Preds, average = 'weighted'):.3f}, Precision: {precision_score(Targets, Preds, average = 'weighted'):.3f}\\n\") #'micro', 'macro', 'weighted', 'samples'\n",
        "\n",
        "#Viewing the overall Categorical metrics and Plotting the Confusion Matrix\n",
        "PlotCategoricalMetrics(Preds, Targets, Labels, normalise = True, figsize = [17, 6.5])\n",
        "print(\"\")\n",
        "\n",
        "for k in range(K_Length):\n",
        "    PredClass = Preds   == k\n",
        "    TrueClass = Targets == k\n",
        "    print(f\"Class {Classes[k]}. Sample-Wise Acc: {np.mean(TrueClass == PredClass):.3f}, Recall: {recall_score(TrueClass, PredClass):.3f}, Precision: {precision_score(TrueClass, PredClass):.3f}, F1: {f1_score(TrueClass, PredClass):.3f}\")\n",
        "    RocCurveDisplay.from_predictions(TrueClass, Preds_prob[:, k])\n",
        "    plt.plot(np.linspace(0, 1, num = 20), np.linspace(0, 1, num = 20), 'b--')\n",
        "    plt.show()\n",
        "    print()"
      ],
      "metadata": {
        "colab": {
          "base_uri": "https://localhost:8080/",
          "height": 1000
        },
        "id": "MW8CHCsaMZfO",
        "outputId": "286fbc6a-5e92-47f3-8367-d9a4c7c5a826"
      },
      "execution_count": null,
      "outputs": [
        {
          "output_type": "stream",
          "name": "stderr",
          "text": [
            ""
          ]
        },
        {
          "output_type": "stream",
          "name": "stdout",
          "text": [
            "Sample-wise Acc: 69.90%, AUC: 0.87, F1: 0.70\n",
            "Class-wise  Acc: 79.93%, Recall: 0.699, Precision: 0.696\n",
            "\n",
            "Confusion matrix\n",
            "[[232  74  93]\n",
            " [ 56 586  80]\n",
            " [ 97  87 313]]\n"
          ]
        },
        {
          "output_type": "display_data",
          "data": {
            "text/plain": [
              "<Figure size 1224x468 with 2 Axes>"
            ],
            "image/png": "[encoded data removed]"
          },
          "metadata": {
            "needs_background": "light"
          }
        },
        {
          "output_type": "stream",
          "name": "stdout",
          "text": [
            "\n",
            "Class Angry. Sample-Wise Acc: 0.802, Recall: 0.581, Precision: 0.603, F1: 0.592\n"
          ]
        },
        {
          "output_type": "display_data",
          "data": {
            "text/plain": [
              "<Figure size 432x288 with 1 Axes>"
            ],
            "image/png": "[encoded data removed]"
          },
          "metadata": {
            "needs_background": "light"
          }
        },
        {
          "output_type": "stream",
          "name": "stdout",
          "text": [
            "\n",
            "Class Happy. Sample-Wise Acc: 0.816, Recall: 0.812, Precision: 0.784, F1: 0.798\n"
          ]
        },
        {
          "output_type": "display_data",
          "data": {
            "text/plain": [
              "<Figure size 432x288 with 1 Axes>"
            ],
            "image/png": "[encoded data removed]"
          },
          "metadata": {
            "needs_background": "light"
          }
        },
        {
          "output_type": "stream",
          "name": "stdout",
          "text": [
            "\n",
            "Class Neutral. Sample-Wise Acc: 0.779, Recall: 0.630, Precision: 0.644, F1: 0.637\n"
          ]
        },
        {
          "output_type": "display_data",
          "data": {
            "text/plain": [
              "<Figure size 432x288 with 1 Axes>"
            ],
            "image/png": "[encoded data removed]"
          },
          "metadata": {
            "needs_background": "light"
          }
        },
        {
          "output_type": "stream",
          "name": "stdout",
          "text": [
            "\n"
          ]
        }
      ]
    },
    {
      "cell_type": "code",
      "source": [
        "External_DF = pd.read_csv(f\"test_data.csv\", header = None, dtype = np.uint8)\n",
        "X_External = External_DF.values.reshape(-1, 48, 48, 1)\n",
        "\n",
        "MYDataset = MyImagesDataset(X_External, TransformationsToApply = TransfX)\n",
        "MYDataLoader = torch.utils.data.DataLoader(\n",
        "    MYDataset,\n",
        "    batch_size = batch_size\n",
        ")\n",
        "\n",
        "model.to(device)\n",
        "model.eval()\n",
        "with torch.no_grad():\n",
        "    TestPredictions = []\n",
        "    for inputs in MYDataLoader:\n",
        "        TestPredictions.append(model(inputs.to(device)))\n",
        "    _, TestPredictions = torch.max(nn.Softmax(dim = 1)(torch.cat(TestPredictions)), 1)\n",
        "TestResults = pd.DataFrame(TestPredictions.detach().cpu().numpy()).reset_index()\n",
        "TestResults.columns = [\"Id\", \"Category\"]\n",
        "\n",
        "FileExportPath = \"Results.csv\"\n",
        "TestResults.to_csv(FileExportPath, sep = ',', header = True, index = False)\n",
        "print(f\"Results saved on: {FileExportPath}\")\n",
        "\n",
        "TestResults"
      ],
      "metadata": {
        "colab": {
          "base_uri": "https://localhost:8080/",
          "height": 441
        },
        "id": "JTY10sJkMmFw",
        "outputId": "80986e9c-917a-4533-8c1a-606c6e7849bd"
      },
      "execution_count": null,
      "outputs": [
        {
          "output_type": "stream",
          "name": "stdout",
          "text": [
            "Results saved on: Results.csv\n"
          ]
        },
        {
          "output_type": "execute_result",
          "data": {
            "text/plain": [
              "        Id  Category\n",
              "0        0         2\n",
              "1        1         0\n",
              "2        2         0\n",
              "3        3         1\n",
              "4        4         1\n",
              "...    ...       ...\n",
              "3960  3960         0\n",
              "3961  3961         0\n",
              "3962  3962         2\n",
              "3963  3963         2\n",
              "3964  3964         2\n",
              "\n",
              "[3965 rows x 2 columns]"
            ],
            "text/html": [
              "\n",
              "  <div id=\"df-a09cabf1-03cf-44b9-ac7b-0650f0a6475d\">\n",
              "    <div class=\"colab-df-container\">\n",
              "      <div>\n",
              "<style scoped>\n",
              "    .dataframe tbody tr th:only-of-type {\n",
              "        vertical-align: middle;\n",
              "    }\n",
              "\n",
              "    .dataframe tbody tr th {\n",
              "        vertical-align: top;\n",
              "    }\n",
              "\n",
              "    .dataframe thead th {\n",
              "        text-align: right;\n",
              "    }\n",
              "</style>\n",
              "<table border=\"1\" class=\"dataframe\">\n",
              "  <thead>\n",
              "    <tr style=\"text-align: right;\">\n",
              "      <th></th>\n",
              "      <th>Id</th>\n",
              "      <th>Category</th>\n",
              "    </tr>\n",
              "  </thead>\n",
              "  <tbody>\n",
              "    <tr>\n",
              "      <th>0</th>\n",
              "      <td>0</td>\n",
              "      <td>2</td>\n",
              "    </tr>\n",
              "    <tr>\n",
              "      <th>1</th>\n",
              "      <td>1</td>\n",
              "      <td>0</td>\n",
              "    </tr>\n",
              "    <tr>\n",
              "      <th>2</th>\n",
              "      <td>2</td>\n",
              "      <td>0</td>\n",
              "    </tr>\n",
              "    <tr>\n",
              "      <th>3</th>\n",
              "      <td>3</td>\n",
              "      <td>1</td>\n",
              "    </tr>\n",
              "    <tr>\n",
              "      <th>4</th>\n",
              "      <td>4</td>\n",
              "      <td>1</td>\n",
              "    </tr>\n",
              "    <tr>\n",
              "      <th>...</th>\n",
              "      <td>...</td>\n",
              "      <td>...</td>\n",
              "    </tr>\n",
              "    <tr>\n",
              "      <th>3960</th>\n",
              "      <td>3960</td>\n",
              "      <td>0</td>\n",
              "    </tr>\n",
              "    <tr>\n",
              "      <th>3961</th>\n",
              "      <td>3961</td>\n",
              "      <td>0</td>\n",
              "    </tr>\n",
              "    <tr>\n",
              "      <th>3962</th>\n",
              "      <td>3962</td>\n",
              "      <td>2</td>\n",
              "    </tr>\n",
              "    <tr>\n",
              "      <th>3963</th>\n",
              "      <td>3963</td>\n",
              "      <td>2</td>\n",
              "    </tr>\n",
              "    <tr>\n",
              "      <th>3964</th>\n",
              "      <td>3964</td>\n",
              "      <td>2</td>\n",
              "    </tr>\n",
              "  </tbody>\n",
              "</table>\n",
              "<p>3965 rows × 2 columns</p>\n",
              "</div>\n",
              "      <button class=\"colab-df-convert\" onclick=\"convertToInteractive('df-a09cabf1-03cf-44b9-ac7b-0650f0a6475d')\"\n",
              "              title=\"Convert this dataframe to an interactive table.\"\n",
              "              style=\"display:none;\">\n",
              "        \n",
              "  <svg xmlns=\"http://www.w3.org/2000/svg\" height=\"24px\"viewBox=\"0 0 24 24\"\n",
              "       width=\"24px\">\n",
              "    <path d=\"M0 0h24v24H0V0z\" fill=\"none\"/>\n",
              "    <path d=\"M18.56 5.44l.94 2.06.94-2.06 2.06-.94-2.06-.94-.94-2.06-.94 2.06-2.06.94zm-11 1L8.5 8.5l.94-2.06 2.06-.94-2.06-.94L8.5 2.5l-.94 2.06-2.06.94zm10 10l.94 2.06.94-2.06 2.06-.94-2.06-.94-.94-2.06-.94 2.06-2.06.94z\"/><path d=\"M17.41 7.96l-1.37-1.37c-.4-.4-.92-.59-1.43-.59-.52 0-1.04.2-1.43.59L10.3 9.45l-7.72 7.72c-.78.78-.78 2.05 0 2.83L4 21.41c.39.39.9.59 1.41.59.51 0 1.02-.2 1.41-.59l7.78-7.78 2.81-2.81c.8-.78.8-2.07 0-2.86zM5.41 20L4 18.59l7.72-7.72 1.47 1.35L5.41 20z\"/>\n",
              "  </svg>\n",
              "      </button>\n",
              "      \n",
              "  <style>\n",
              "    .colab-df-container {\n",
              "      display:flex;\n",
              "      flex-wrap:wrap;\n",
              "      gap: 12px;\n",
              "    }\n",
              "\n",
              "    .colab-df-convert {\n",
              "      background-color: #E8F0FE;\n",
              "      border: none;\n",
              "      border-radius: 50%;\n",
              "      cursor: pointer;\n",
              "      display: none;\n",
              "      fill: #1967D2;\n",
              "      height: 32px;\n",
              "      padding: 0 0 0 0;\n",
              "      width: 32px;\n",
              "    }\n",
              "\n",
              "    .colab-df-convert:hover {\n",
              "      background-color: #E2EBFA;\n",
              "      box-shadow: 0px 1px 2px rgba(60, 64, 67, 0.3), 0px 1px 3px 1px rgba(60, 64, 67, 0.15);\n",
              "      fill: #174EA6;\n",
              "    }\n",
              "\n",
              "    [theme=dark] .colab-df-convert {\n",
              "      background-color: #3B4455;\n",
              "      fill: #D2E3FC;\n",
              "    }\n",
              "\n",
              "    [theme=dark] .colab-df-convert:hover {\n",
              "      background-color: #434B5C;\n",
              "      box-shadow: 0px 1px 3px 1px rgba(0, 0, 0, 0.15);\n",
              "      filter: drop-shadow(0px 1px 2px rgba(0, 0, 0, 0.3));\n",
              "      fill: #FFFFFF;\n",
              "    }\n",
              "  </style>\n",
              "\n",
              "      <script>\n",
              "        const buttonEl =\n",
              "          document.querySelector('#df-a09cabf1-03cf-44b9-ac7b-0650f0a6475d button.colab-df-convert');\n",
              "        buttonEl.style.display =\n",
              "          google.colab.kernel.accessAllowed ? 'block' : 'none';\n",
              "\n",
              "        async function convertToInteractive(key) {\n",
              "          const element = document.querySelector('#df-a09cabf1-03cf-44b9-ac7b-0650f0a6475d');\n",
              "          const dataTable =\n",
              "            await google.colab.kernel.invokeFunction('convertToInteractive',\n",
              "                                                     [key], {});\n",
              "          if (!dataTable) return;\n",
              "\n",
              "          const docLinkHtml = 'Like what you see? Visit the ' +\n",
              "            '<a target=\"_blank\" href=https://colab.research.google.com/notebooks/data_table.ipynb>data table notebook</a>'\n",
              "            + ' to learn more about interactive tables.';\n",
              "          element.innerHTML = '';\n",
              "          dataTable['output_type'] = 'display_data';\n",
              "          await google.colab.output.renderOutput(dataTable, element);\n",
              "          const docLink = document.createElement('div');\n",
              "          docLink.innerHTML = docLinkHtml;\n",
              "          element.appendChild(docLink);\n",
              "        }\n",
              "      </script>\n",
              "    </div>\n",
              "  </div>\n",
              "  "
            ]
          },
          "metadata": {},
          "execution_count": 31
        }
      ]
    }
  ]
}